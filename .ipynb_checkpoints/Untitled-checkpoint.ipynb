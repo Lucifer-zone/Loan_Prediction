{
 "cells": [
  {
   "cell_type": "code",
   "execution_count": 200,
   "metadata": {},
   "outputs": [],
   "source": [
    "import numpy as np\n",
    "import pandas as pd\n",
    "import matplotlib.pyplot as plt\n",
    "%matplotlib inline"
   ]
  },
  {
   "cell_type": "code",
   "execution_count": 201,
   "metadata": {},
   "outputs": [],
   "source": [
    "train = pd.read_csv('train.csv')\n",
    "test = pd.read_csv('test.csv')\n",
    "train['Loan_Status']=train['Loan_Status'].apply(lambda x:1 if x is 'Y' else 0)\n",
    "train.head()\n",
    "save_loanid = test['Loan_ID']"
   ]
  },
  {
   "cell_type": "code",
   "execution_count": 202,
   "metadata": {},
   "outputs": [],
   "source": [
    "Y_tr= train['Loan_Status']\n",
    "X_tr=train.drop('Loan_Status',axis=1)\n",
    "X_tr=pd.concat([X_tr,test],axis=0)"
   ]
  },
  {
   "cell_type": "code",
   "execution_count": 203,
   "metadata": {},
   "outputs": [
    {
     "name": "stdout",
     "output_type": "stream",
     "text": [
      "<class 'pandas.core.frame.DataFrame'>\n",
      "Int64Index: 981 entries, 0 to 366\n",
      "Data columns (total 12 columns):\n",
      "Loan_ID              981 non-null object\n",
      "Gender               957 non-null object\n",
      "Married              978 non-null object\n",
      "Dependents           956 non-null object\n",
      "Education            981 non-null object\n",
      "Self_Employed        926 non-null object\n",
      "ApplicantIncome      981 non-null int64\n",
      "CoapplicantIncome    981 non-null float64\n",
      "LoanAmount           954 non-null float64\n",
      "Loan_Amount_Term     961 non-null float64\n",
      "Credit_History       902 non-null float64\n",
      "Property_Area        981 non-null object\n",
      "dtypes: float64(4), int64(1), object(7)\n",
      "memory usage: 99.6+ KB\n"
     ]
    }
   ],
   "source": [
    "X_tr.info()"
   ]
  },
  {
   "cell_type": "code",
   "execution_count": 204,
   "metadata": {},
   "outputs": [
    {
     "name": "stdout",
     "output_type": "stream",
     "text": [
      "        Loan_Status\n",
      "Gender             \n",
      "Female     0.669643\n",
      "Male       0.693252\n",
      "         Loan_Status\n",
      "Married             \n",
      "No          0.629108\n",
      "Yes         0.716080\n",
      "            Loan_Status\n",
      "Dependents             \n",
      "0              0.689855\n",
      "1              0.647059\n",
      "2              0.752475\n",
      "3+             0.647059\n",
      "              Loan_Status\n",
      "Education                \n",
      "Graduate         0.708333\n",
      "Not Graduate     0.611940\n",
      "               Loan_Status\n",
      "Self_Employed             \n",
      "No                0.686000\n",
      "Yes               0.682927\n",
      "                Loan_Status\n",
      "Credit_History             \n",
      "0.0                0.078652\n",
      "1.0                0.795789\n",
      "               Loan_Status\n",
      "Property_Area             \n",
      "Rural             0.614525\n",
      "Semiurban         0.768240\n",
      "Urban             0.658416\n"
     ]
    }
   ],
   "source": [
    "X_tr['Gender'].fillna('Male')\n",
    "X_tr['Married'].fillna('Yes')\n",
    "X_tr.describe(include='all')\n",
    "train['Loan_Status'].head()\n",
    "#print(train.columns)\n",
    "colum = ['Gender','Married','Dependents','Education','Self_Employed','Credit_History','Property_Area']\n",
    "for col in list(colum):\n",
    "    print(train[[col,'Loan_Status']].groupby(col).mean())"
   ]
  },
  {
   "cell_type": "code",
   "execution_count": 205,
   "metadata": {},
   "outputs": [],
   "source": [
    "from sklearn.preprocessing import LabelEncoder\n",
    "lbl = LabelEncoder()\n",
    "X_tr['Gender']=lbl.fit_transform(X_tr['Gender'])\n",
    "X_tr['Married']=lbl.fit_transform(X_tr['Married'])\n",
    "X_tr['Dependents']=lbl.fit_transform(X_tr['Dependents'])\n",
    "X_tr['Education']=lbl.fit_transform(X_tr['Education'])\n",
    "X_tr['Self_Employed']=lbl.fit_transform(X_tr['Self_Employed'])\n",
    "X_tr['Property_Area']=lbl.fit_transform(X_tr['Property_Area'])\n",
    "#train.groupby('Gender')[['Gender','Loan_Status']].mean()\n",
    "#train.head()"
   ]
  },
  {
   "cell_type": "code",
   "execution_count": 206,
   "metadata": {},
   "outputs": [
    {
     "name": "stdout",
     "output_type": "stream",
     "text": [
      "<class 'pandas.core.frame.DataFrame'>\n",
      "Int64Index: 981 entries, 0 to 366\n",
      "Data columns (total 11 columns):\n",
      "Gender               981 non-null int64\n",
      "Married              981 non-null int64\n",
      "Dependents           981 non-null int64\n",
      "Education            981 non-null int64\n",
      "Self_Employed        981 non-null int64\n",
      "ApplicantIncome      981 non-null int64\n",
      "CoapplicantIncome    981 non-null float64\n",
      "LoanAmount           954 non-null float64\n",
      "Loan_Amount_Term     961 non-null float64\n",
      "Credit_History       902 non-null float64\n",
      "Property_Area        981 non-null int64\n",
      "dtypes: float64(4), int64(7)\n",
      "memory usage: 92.0 KB\n"
     ]
    }
   ],
   "source": [
    "X_tr.drop('Loan_ID',axis=1,inplace=True)\n",
    "X_tr.info()"
   ]
  },
  {
   "cell_type": "code",
   "execution_count": 207,
   "metadata": {},
   "outputs": [
    {
     "name": "stdout",
     "output_type": "stream",
     "text": [
      "<class 'pandas.core.frame.DataFrame'>\n",
      "Int64Index: 981 entries, 0 to 366\n",
      "Data columns (total 11 columns):\n",
      "Gender               981 non-null int64\n",
      "Married              981 non-null int64\n",
      "Dependents           981 non-null int64\n",
      "Education            981 non-null int64\n",
      "Self_Employed        981 non-null int64\n",
      "ApplicantIncome      981 non-null int64\n",
      "CoapplicantIncome    981 non-null float64\n",
      "LoanAmount           981 non-null float64\n",
      "Loan_Amount_Term     981 non-null float64\n",
      "Credit_History       981 non-null float64\n",
      "Property_Area        981 non-null int64\n",
      "dtypes: float64(4), int64(7)\n",
      "memory usage: 92.0 KB\n"
     ]
    }
   ],
   "source": [
    "'''from sklearn.preprocessing import Imputer\n",
    "imp = Imputer(copy=False,axis=0)\n",
    "    imp.fit_transform([X_tr[col]])\n",
    "    print(X_tr[col])'''\n",
    "imp_col =['LoanAmount','Loan_Amount_Term','Credit_History']\n",
    "for col in list(imp_col):\n",
    "    X_tr[col].fillna(X_tr[col].median(),inplace=True)\n",
    "X_tr.info()"
   ]
  },
  {
   "cell_type": "code",
   "execution_count": 208,
   "metadata": {},
   "outputs": [
    {
     "name": "stdout",
     "output_type": "stream",
     "text": [
      "<type 'str'>\n"
     ]
    },
    {
     "data": {
      "text/plain": [
       "(981, 11)"
      ]
     },
     "execution_count": 208,
     "metadata": {},
     "output_type": "execute_result"
    }
   ],
   "source": [
    "from sklearn.preprocessing import MinMaxScaler\n",
    "ms = MinMaxScaler(copy=False)\n",
    "ms_col = list(X_tr.columns)\n",
    "print(type(ms_col[0]))\n",
    "for col in ms_col:\n",
    "    X_tr[[col]]=ms.fit_transform(X_tr[[col]])\n",
    "X_tr.shape"
   ]
  },
  {
   "cell_type": "code",
   "execution_count": 209,
   "metadata": {},
   "outputs": [
    {
     "data": {
      "text/plain": [
       "(367, 11)"
      ]
     },
     "execution_count": 209,
     "metadata": {},
     "output_type": "execute_result"
    }
   ],
   "source": [
    "rows = X_tr.shape[0]-test.shape[0]\n",
    "#print(X_tr[rows:].head())\n",
    "real_test= X_tr[rows:]\n",
    "X_train=X_tr[:rows]\n",
    "from sklearn.model_selection import train_test_split\n",
    "X_train,X_test,Y_train,Y_test = train_test_split(X_train,Y_tr,test_size=0.2,random_state=42)\n",
    "real_test.shape\n"
   ]
  },
  {
   "cell_type": "code",
   "execution_count": 210,
   "metadata": {},
   "outputs": [
    {
     "data": {
      "text/plain": [
       "82.69"
      ]
     },
     "execution_count": 210,
     "metadata": {},
     "output_type": "execute_result"
    }
   ],
   "source": [
    "\n",
    "\n",
    "from sklearn.ensemble import RandomForestClassifier\n",
    "random_forest = RandomForestClassifier(n_estimators=100,max_features=3,max_depth=80,min_samples_leaf=5,min_samples_split=12,bootstrap=True)\n",
    "random_forest.fit(X_train, Y_train)\n",
    "Y_pred = random_forest.predict(real_test)\n",
    "random_forest.score(X_test, Y_test)\n",
    "acc_random_forest = round(random_forest.score(X_train, Y_train) * 100, 2)\n",
    "acc_random_forest"
   ]
  },
  {
   "cell_type": "code",
   "execution_count": 211,
   "metadata": {},
   "outputs": [],
   "source": [
    "import csv\n",
    "with open('predictions.csv', 'w') as csvfile:\n",
    "    filewriter = csv.writer(csvfile, delimiter=',', quotechar='|', quoting=csv.QUOTE_MINIMAL)\n",
    "    filewriter.writerow(['Loan_ID', 'Loan_Status'])\n",
    "    for i, j in zip(save_loanid,Y_pred):\n",
    "        filewriter.writerow([i, j])"
   ]
  },
  {
   "cell_type": "code",
   "execution_count": null,
   "metadata": {},
   "outputs": [],
   "source": []
  }
 ],
 "metadata": {
  "kernelspec": {
   "display_name": "Python 2",
   "language": "python",
   "name": "python2"
  },
  "language_info": {
   "codemirror_mode": {
    "name": "ipython",
    "version": 2
   },
   "file_extension": ".py",
   "mimetype": "text/x-python",
   "name": "python",
   "nbconvert_exporter": "python",
   "pygments_lexer": "ipython2",
   "version": "2.7.15rc1"
  }
 },
 "nbformat": 4,
 "nbformat_minor": 2
}
